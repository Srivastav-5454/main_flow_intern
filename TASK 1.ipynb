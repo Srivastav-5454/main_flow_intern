{
 "cells": [
  {
   "cell_type": "code",
   "execution_count": 1,
   "id": "1c711e48",
   "metadata": {},
   "outputs": [
    {
     "name": "stdout",
     "output_type": "stream",
     "text": [
      "Initial List: [1, 2, 3, 4, 5]\n",
      "List after adding elements: [1, 2, 3, 4, 5, 6, 7, 8, 9]\n",
      "List after removing element '3': [1, 2, 4, 5, 6, 7, 8, 9]\n",
      "List after modifying first element: [100, 2, 4, 5, 6, 7, 8, 9]\n",
      "\n",
      "Initial Dictionary: {'a': 1, 'b': 2, 'c': 3}\n",
      "Dictionary after adding elements: {'a': 1, 'b': 2, 'c': 3, 'd': 4, 'e': 5, 'f': 6}\n",
      "Dictionary after removing key 'b': {'a': 1, 'c': 3, 'd': 4, 'e': 5, 'f': 6}\n",
      "Dictionary after modifying value for key 'a': {'a': 100, 'c': 3, 'd': 4, 'e': 5, 'f': 6}\n",
      "\n",
      "Initial Set: {1, 2, 3, 4, 5}\n",
      "Set after adding elements: {1, 2, 3, 4, 5, 6, 7, 8, 9}\n",
      "Set after removing element '3': {1, 2, 4, 5, 6, 7, 8, 9}\n",
      "Set after modifying element (converted through list): {2, 100, 5, 4, 6, 7, 8, 9}\n"
     ]
    }
   ],
   "source": [
    "# Creating a list\n",
    "my_list = [1, 2, 3, 4, 5]\n",
    "print(\"Initial List:\", my_list)\n",
    "\n",
    "# Adding elements to the list\n",
    "my_list.append(6)\n",
    "my_list.extend([7, 8, 9])\n",
    "print(\"List after adding elements:\", my_list)\n",
    "\n",
    "# Removing elements from the list\n",
    "my_list.remove(3)  # Removes the first occurrence of 3\n",
    "print(\"List after removing element '3':\", my_list)\n",
    "\n",
    "# Modifying an element in the list\n",
    "my_list[0] = 100\n",
    "print(\"List after modifying first element:\", my_list)\n",
    "\n",
    "# Creating a dictionary\n",
    "my_dict = {'a': 1, 'b': 2, 'c': 3}\n",
    "print(\"\\nInitial Dictionary:\", my_dict)\n",
    "\n",
    "# Adding elements to the dictionary\n",
    "my_dict['d'] = 4\n",
    "my_dict.update({'e': 5, 'f': 6})\n",
    "print(\"Dictionary after adding elements:\", my_dict)\n",
    "\n",
    "# Removing elements from the dictionary\n",
    "del my_dict['b']\n",
    "print(\"Dictionary after removing key 'b':\", my_dict)\n",
    "\n",
    "# Modifying a value in the dictionary\n",
    "my_dict['a'] = 100\n",
    "print(\"Dictionary after modifying value for key 'a':\", my_dict)\n",
    "\n",
    "# Creating a set\n",
    "my_set = {1, 2, 3, 4, 5}\n",
    "print(\"\\nInitial Set:\", my_set)\n",
    "\n",
    "# Adding elements to the set\n",
    "my_set.add(6)\n",
    "my_set.update([7, 8, 9])\n",
    "print(\"Set after adding elements:\", my_set)\n",
    "\n",
    "# Removing elements from the set\n",
    "my_set.remove(3)\n",
    "print(\"Set after removing element '3':\", my_set)\n",
    "\n",
    "# Trying to modify elements in a set (not directly possible, can only add or remove)\n",
    "\n",
    "# Convert set to list to modify, then convert back to set\n",
    "temp_list = list(my_set)\n",
    "temp_list[0] = 100\n",
    "my_set = set(temp_list)\n",
    "print(\"Set after modifying element (converted through list):\", my_set)\n"
   ]
  },
  {
   "cell_type": "code",
   "execution_count": null,
   "id": "beef6b21",
   "metadata": {},
   "outputs": [],
   "source": []
  }
 ],
 "metadata": {
  "kernelspec": {
   "display_name": "Python 3 (ipykernel)",
   "language": "python",
   "name": "python3"
  },
  "language_info": {
   "codemirror_mode": {
    "name": "ipython",
    "version": 3
   },
   "file_extension": ".py",
   "mimetype": "text/x-python",
   "name": "python",
   "nbconvert_exporter": "python",
   "pygments_lexer": "ipython3",
   "version": "3.10.9"
  }
 },
 "nbformat": 4,
 "nbformat_minor": 5
}
